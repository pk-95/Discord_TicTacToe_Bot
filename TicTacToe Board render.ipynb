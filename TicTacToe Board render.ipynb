{
 "cells": [
  {
   "cell_type": "code",
   "execution_count": 36,
   "metadata": {},
   "outputs": [],
   "source": [
    "from PIL import Image\n",
    "  \n",
    "# Opening the primary image (used in background)\n",
    "img0 = Image.open(r\"Green grid.png\")\n",
    "# Opening the secondary images (overlay image)\n",
    "img1 = Image.open(r\"cross white.png\")\n",
    "img2 = Image.open(r\"circle white.png\") \n",
    "imar=[img1,img2]"
   ]
  },
  {
   "cell_type": "code",
   "execution_count": 37,
   "metadata": {},
   "outputs": [],
   "source": [
    "\n",
    "  \n",
    "# Pasting img2 image on top of img0 \n",
    "# starting at coordinates (0, 0)\n",
    "w=131\n",
    "h=129\n",
    "#[0,0]\n",
    "img0.paste(img2, (0,0), mask = img2)\n",
    "\n",
    "#[0,1]\n",
    "img0.paste(img2, (w,0), mask = img2)\n",
    "\n",
    "#[0,2]\n",
    "img0.paste(img2, (2*w,0), mask = img2)\n",
    "\n",
    "#[1,0]\n",
    "img0.paste(img2, (0,h), mask = img2)\n",
    "\n",
    "#[1,1]\n",
    "img0.paste(img2, (w,h), mask = img2)\n",
    "\n",
    "#[1,2]\n",
    "img0.paste(img2, (2*w,h), mask = img2)\n",
    "\n",
    "#[2,0]\n",
    "img0.paste(img2, (0,2*h), mask = img2)\n",
    "\n",
    "#[2,1]\n",
    "img0.paste(img2, (w,2*h), mask = img2)\n",
    "\n",
    "#[2,2]\n",
    "img0.paste(img2, (2*w,2*h), mask = img2)\n",
    "  \n",
    "# Displaying the image\n",
    "img0.show()"
   ]
  },
  {
   "cell_type": "code",
   "execution_count": 54,
   "metadata": {},
   "outputs": [],
   "source": [
    "img0 = Image.open(r\"Green grid.png\")\n",
    "img1 = Image.open(r\"cross white.png\")\n",
    "img2 = Image.open(r\"circle white.png\") \n",
    "imar=[img1,img2]\n",
    "w=131;h=129\n",
    "Pos=[[(0,0),(w,0),(2*w,0)],\n",
    "    [(0,h),(w,h),(2*w,h)],\n",
    "    [(0,2*h),(w,2*h),(2*w,2*h)]]\n",
    "\n",
    "def render(row, col, piece):\n",
    "    img0.paste(imar[piece], Pos[row][col], mask = imar[piece])\n",
    "    img0.show()"
   ]
  },
  {
   "cell_type": "code",
   "execution_count": 55,
   "metadata": {},
   "outputs": [],
   "source": [
    "img0.show()"
   ]
  },
  {
   "cell_type": "code",
   "execution_count": 61,
   "metadata": {},
   "outputs": [],
   "source": [
    "render(0,2,0)"
   ]
  },
  {
   "cell_type": "code",
   "execution_count": 59,
   "metadata": {},
   "outputs": [],
   "source": [
    "render(2,1,1)"
   ]
  },
  {
   "cell_type": "code",
   "execution_count": null,
   "metadata": {},
   "outputs": [],
   "source": []
  }
 ],
 "metadata": {
  "kernelspec": {
   "display_name": "Python 3",
   "language": "python",
   "name": "python3"
  },
  "language_info": {
   "codemirror_mode": {
    "name": "ipython",
    "version": 3
   },
   "file_extension": ".py",
   "mimetype": "text/x-python",
   "name": "python",
   "nbconvert_exporter": "python",
   "pygments_lexer": "ipython3",
   "version": "3.7.4"
  }
 },
 "nbformat": 4,
 "nbformat_minor": 2
}
